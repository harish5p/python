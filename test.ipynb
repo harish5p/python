{
 "cells": [
  {
   "cell_type": "code",
   "execution_count": 1,
   "metadata": {},
   "outputs": [
    {
     "data": {
      "text/plain": [
       "6.0"
      ]
     },
     "execution_count": 1,
     "metadata": {},
     "output_type": "execute_result"
    }
   ],
   "source": [
    "import math\n",
    "abs(math.sqrt(36)) "
   ]
  },
  {
   "cell_type": "code",
   "execution_count": 3,
   "metadata": {},
   "outputs": [
    {
     "name": "stdout",
     "output_type": "stream",
     "text": [
      "The string Tutedude has 8  characters.\n"
     ]
    }
   ],
   "source": [
    "def count_characters(string):\n",
    "    return len(string)\n",
    "\n",
    "test_string = \"Tutedude\"\n",
    "print(f\"The string {test_string} has {count_characters(test_string)}  characters.\")"
   ]
  },
  {
   "cell_type": "code",
   "execution_count": 4,
   "metadata": {},
   "outputs": [
    {
     "name": "stdout",
     "output_type": "stream",
     "text": [
      "The string 123456789 contains only numbers\n",
      "The string tutedude123456789 doesn't contain only numbers\n"
     ]
    }
   ],
   "source": [
    "def check_numbers(string):\n",
    "    return string.isdigit()\n",
    "\n",
    "\n",
    "test_string = \"123456789\"\n",
    "if check_numbers(test_string):\n",
    "    print(f\"The string {test_string} contains only numbers\")\n",
    "else:\n",
    "    print(f\"The string {test_string} doesn't contain only numbers\")\n",
    "\n",
    "test_string1 = \"tutedude123456789\"\n",
    "if check_numbers(test_string1):\n",
    "    print(f\"The string {test_string1} contains only numbers\")\n",
    "else:\n",
    "    print(f\"The string {test_string1} doesn't contain only numbers\")"
   ]
  },
  {
   "cell_type": "code",
   "execution_count": 6,
   "metadata": {},
   "outputs": [
    {
     "data": {
      "text/plain": [
       "'pq'"
      ]
     },
     "execution_count": 6,
     "metadata": {},
     "output_type": "execute_result"
    }
   ],
   "source": [
    "'p' + 'q' if '12'.isdigit() else 'r' + 's'"
   ]
  },
  {
   "cell_type": "code",
   "execution_count": 9,
   "metadata": {},
   "outputs": [
    {
     "name": "stdout",
     "output_type": "stream",
     "text": [
      "Grade for 50.0 marks is: C\n"
     ]
    }
   ],
   "source": [
    "marks = float(input(\"Enter the marks: \"))\n",
    "\n",
    "if marks < 25:\n",
    "    grade = 'F'\n",
    "elif marks < 45:\n",
    "    grade = 'E'\n",
    "elif marks < 50:\n",
    "    grade = 'D'\n",
    "elif marks < 60:\n",
    "    grade = \"C\"  \n",
    "elif marks < 80:\n",
    "    grade = \"B\"    \n",
    "elif marks > 80:\n",
    "    grade = \"A\"    \n",
    "\n",
    "print(f\"Grade for {marks} marks is: {grade}\")     "
   ]
  },
  {
   "cell_type": "code",
   "execution_count": 10,
   "metadata": {},
   "outputs": [
    {
     "name": "stdout",
     "output_type": "stream",
     "text": [
      "The rectange with 10.0 length and 10.0 breadth is a square\n"
     ]
    }
   ],
   "source": [
    "length = float(input(\"Enter the length: \"))\n",
    "breadth = float(input(\"Enter the breadth: \"))\n",
    "\n",
    "if length ==  breadth:\n",
    "    print(f\"The rectange with {length} length and {breadth} breadth is a square\")\n",
    "else:\n",
    "    print(f\"The rectange with {length} length and {breadth} breadth is a not square\")\n",
    "    "
   ]
  },
  {
   "cell_type": "code",
   "execution_count": 11,
   "metadata": {},
   "outputs": [
    {
     "name": "stdout",
     "output_type": "stream",
     "text": [
      "Hello, World!\n",
      "The function returned None.\n"
     ]
    }
   ],
   "source": [
    "def hello():\n",
    "    print(\"Hello, World!\")\n",
    "\n",
    "result = hello()\n",
    "if result is None:\n",
    "    print(\"The function returned None.\")"
   ]
  },
  {
   "cell_type": "code",
   "execution_count": 14,
   "metadata": {},
   "outputs": [
    {
     "name": "stdout",
     "output_type": "stream",
     "text": [
      "6 is a perfect number\n",
      "28 is a perfect number\n",
      "496 is a perfect number\n"
     ]
    }
   ],
   "source": [
    "def perfect(number):\n",
    "    sum = 0\n",
    "    for i in range(1,number):\n",
    "        if number% i ==0:\n",
    "            sum = sum + i\n",
    "    return sum == number\n",
    "\n",
    "for i in range(1, 1001):\n",
    "    if perfect(i):\n",
    "        print(f\"{i} is a perfect number\")\n",
    "    "
   ]
  },
  {
   "cell_type": "code",
   "execution_count": 17,
   "metadata": {},
   "outputs": [
    {
     "name": "stdout",
     "output_type": "stream",
     "text": [
      "1\n",
      "100000\n"
     ]
    }
   ],
   "source": [
    "def cal_power(base, exponent):\n",
    "    return base ** exponent\n",
    "\n",
    "print (cal_power(2,0))\n",
    "print(cal_power(10,5))"
   ]
  },
  {
   "cell_type": "code",
   "execution_count": 22,
   "metadata": {},
   "outputs": [
    {
     "data": {
      "text/plain": [
       "1"
      ]
     },
     "execution_count": 22,
     "metadata": {},
     "output_type": "execute_result"
    }
   ],
   "source": [
    "def factorial(number):\n",
    "    if number ==0:\n",
    "        return 1\n",
    "    else:\n",
    "        return factorial(number-1)*number\n",
    "    \n",
    "factorial(5)\n",
    "factorial(0)\n",
    "\n"
   ]
  },
  {
   "cell_type": "code",
   "execution_count": 23,
   "metadata": {},
   "outputs": [
    {
     "name": "stdout",
     "output_type": "stream",
     "text": [
      "Division by 0 is not valid\n"
     ]
    }
   ],
   "source": [
    "try:\n",
    "    x = 1/0\n",
    "except:\n",
    "    print(\"Division by 0 is not valid\")"
   ]
  },
  {
   "cell_type": "code",
   "execution_count": 24,
   "metadata": {},
   "outputs": [
    {
     "name": "stdout",
     "output_type": "stream",
     "text": [
      "2.0/2.0 is 1.0\n"
     ]
    }
   ],
   "source": [
    "try:\n",
    "    a = float(input(\"Enter the numerator: \"))\n",
    "    b = float(input(\"Enter the denominator: \"))\n",
    "    \n",
    "    result = a/b\n",
    "    print(f\"{a}/{b} is {result}\")\n",
    "except ZeroDivisionError:\n",
    "    print(\"Division by 0 is not valid\")\n",
    "    "
   ]
  },
  {
   "cell_type": "code",
   "execution_count": 25,
   "metadata": {},
   "outputs": [
    {
     "name": "stdout",
     "output_type": "stream",
     "text": [
      "Division by 0 is not valid\n"
     ]
    }
   ],
   "source": [
    "try:\n",
    "    a = float(input(\"Enter the numerator: \"))\n",
    "    b = float(input(\"Enter the denominator: \"))\n",
    "    \n",
    "    result = a/b\n",
    "    print(f\"{a}/{b} is {result}\")\n",
    "except ZeroDivisionError:\n",
    "    print(\"Division by 0 is not valid\")\n",
    "    "
   ]
  },
  {
   "cell_type": "code",
   "execution_count": 26,
   "metadata": {},
   "outputs": [
    {
     "name": "stdout",
     "output_type": "stream",
     "text": [
      "{'hello': 40, 'tutedude': 45}\n"
     ]
    }
   ],
   "source": [
    "d = {\"hello\":40, \"tutedude\":45}                                                                                                                                                                  \n",
    "print(d)"
   ]
  },
  {
   "cell_type": "code",
   "execution_count": 28,
   "metadata": {},
   "outputs": [
    {
     "data": {
      "text/plain": [
       "['h', 'e', 'l', 'l', 'o']"
      ]
     },
     "execution_count": 28,
     "metadata": {},
     "output_type": "execute_result"
    }
   ],
   "source": [
    "list(\"hello\")"
   ]
  },
  {
   "cell_type": "code",
   "execution_count": 29,
   "metadata": {},
   "outputs": [
    {
     "name": "stdout",
     "output_type": "stream",
     "text": [
      "t\n"
     ]
    }
   ],
   "source": [
    "str1=\"python\"\n",
    "print(str1[2])"
   ]
  },
  {
   "cell_type": "code",
   "execution_count": 30,
   "metadata": {},
   "outputs": [
    {
     "ename": "TypeError",
     "evalue": "'str' object does not support item assignment",
     "output_type": "error",
     "traceback": [
      "\u001b[0;31m---------------------------------------------------------------------------\u001b[0m",
      "\u001b[0;31mTypeError\u001b[0m                                 Traceback (most recent call last)",
      "Cell \u001b[0;32mIn[30], line 1\u001b[0m\n\u001b[0;32m----> 1\u001b[0m str1[\u001b[39m1\u001b[39;49m]\u001b[39m=\u001b[39m\u001b[39m\"\u001b[39m\u001b[39mx\u001b[39m\u001b[39m\"\u001b[39m\n",
      "\u001b[0;31mTypeError\u001b[0m: 'str' object does not support item assignment"
     ]
    }
   ],
   "source": [
    "str1[1]=\"x\""
   ]
  },
  {
   "cell_type": "code",
   "execution_count": 31,
   "metadata": {},
   "outputs": [
    {
     "name": "stdout",
     "output_type": "stream",
     "text": [
      "python\n"
     ]
    }
   ],
   "source": [
    "print(str1[0:9])"
   ]
  },
  {
   "cell_type": "code",
   "execution_count": 33,
   "metadata": {},
   "outputs": [
    {
     "name": "stdout",
     "output_type": "stream",
     "text": [
      "tutedude\n"
     ]
    }
   ],
   "source": [
    "def lowercase(string):\n",
    "    return string.lower()\n",
    "\n",
    "print(f\"{lowercase('TUTEDUDE')}\")"
   ]
  },
  {
   "cell_type": "code",
   "execution_count": 36,
   "metadata": {},
   "outputs": [
    {
     "name": "stdout",
     "output_type": "stream",
     "text": [
      "{'Ten': 10, 'Twenty': 20, 'Thirty': 30, 'Fourty': 40, 'Fifty': 50}\n"
     ]
    }
   ],
   "source": [
    "# Executed in python 3.11.4\n",
    "dict1 = {'Ten': 10, 'Twenty': 20, 'Thirty': 30}\n",
    "dict2 = {'Thirty': 30, 'Fourty': 40, 'Fifty': 50}\n",
    "\n",
    "print(dict1 | dict2)\n"
   ]
  },
  {
   "cell_type": "code",
   "execution_count": 37,
   "metadata": {},
   "outputs": [
    {
     "data": {
      "text/plain": [
       "[(1, 1), (2, 8), (3, 27)]"
      ]
     },
     "execution_count": 37,
     "metadata": {},
     "output_type": "execute_result"
    }
   ],
   "source": [
    "def cubed_tuple(input_list):\n",
    "    return [(n, n**3) for n in input_list]\n",
    "\n",
    "cubed_tuple([1,2,3])"
   ]
  },
  {
   "cell_type": "code",
   "execution_count": 38,
   "metadata": {},
   "outputs": [
    {
     "name": "stdout",
     "output_type": "stream",
     "text": [
      "125\n"
     ]
    }
   ],
   "source": [
    "lamb = lambda x: x ** 3                                                                                                                                      \n",
    "print(lamb(5))"
   ]
  },
  {
   "cell_type": "code",
   "execution_count": 39,
   "metadata": {},
   "outputs": [
    {
     "name": "stdout",
     "output_type": "stream",
     "text": [
      "[3, 5]\n"
     ]
    }
   ],
   "source": [
    "nums = [3, 5, 16, 27]\n",
    "some_nums = list(filter(lambda num: num < 10, nums))                                                                         \n",
    "print(some_nums)"
   ]
  },
  {
   "cell_type": "markdown",
   "metadata": {},
   "source": [
    " Build the  generator primes() function so that you fills the n one at a time, and comes back to primes() function until n > 100."
   ]
  },
  {
   "cell_type": "code",
   "execution_count": 13,
   "metadata": {},
   "outputs": [
    {
     "name": "stdout",
     "output_type": "stream",
     "text": [
      "[2, 3, 5, 7, 11, 13, 17, 19, 23, 29, 31, 37, 41, 43, 47, 53, 59, 61, 67, 71, 73, 79, 83, 89, 97]\n"
     ]
    }
   ],
   "source": [
    "def isPrime(n):\n",
    "    for i in range(2,int(n**0.5) + 1):\n",
    "        if n % i == 0:\n",
    "            return False\n",
    "    return True \n",
    "    \n",
    "\n",
    "def primes():\n",
    "    n=2\n",
    "    while n <= 100:\n",
    "        if isPrime(n):\n",
    "            yield n\n",
    "        n += 1\n",
    "\n",
    "primes_list = []\n",
    "\n",
    "for prime in primes():\n",
    "    primes_list.append(prime)\n",
    "print(primes_list)"
   ]
  },
  {
   "cell_type": "code",
   "execution_count": 14,
   "metadata": {},
   "outputs": [
    {
     "name": "stdout",
     "output_type": "stream",
     "text": [
      "1\n",
      "2\n"
     ]
    }
   ],
   "source": [
    "class Student:\n",
    "    def __init__(self,name,id):\n",
    "        self.name = name\n",
    "        self.id = id\n",
    "        print(self.id)\n",
    "        \n",
    "std=Student(\"Simon\", 1)\n",
    "std.id=2\n",
    "print(std.id)"
   ]
  },
  {
   "cell_type": "code",
   "execution_count": 15,
   "metadata": {},
   "outputs": [
    {
     "name": "stdout",
     "output_type": "stream",
     "text": [
      "1\n"
     ]
    }
   ],
   "source": [
    "class Powah:\n",
    "    def __init__(self, x, n):\n",
    "        self.x = x\n",
    "        self.n = n\n",
    "    def power(self):\n",
    "        return self.x ** self.n\n",
    "    \n",
    "p = Powah(2,0)   \n",
    "print(p.power())\n",
    "    "
   ]
  },
  {
   "cell_type": "code",
   "execution_count": 17,
   "metadata": {},
   "outputs": [
    {
     "name": "stdout",
     "output_type": "stream",
     "text": [
      "32.0\n",
      "-40.0\n",
      "-40.0\n"
     ]
    }
   ],
   "source": [
    "class Temperature:\n",
    "    def convertFahrenheit(self, celsius):\n",
    "        return (celsius * 9/5) + 32\n",
    "    def convertCelsius(self, fahrenheit):\n",
    "        return (fahrenheit - 32) * 5/9\n",
    "    \n",
    "t = Temperature()\n",
    "print(t.convertFahrenheit(0))\n",
    "print(t.convertFahrenheit(-40))\n",
    "print(t.convertCelsius(-40))\n",
    "    "
   ]
  },
  {
   "cell_type": "code",
   "execution_count": 32,
   "metadata": {},
   "outputs": [
    {
     "name": "stdout",
     "output_type": "stream",
     "text": [
      "25 hr and 58 m\n",
      "1558 minute\n"
     ]
    }
   ],
   "source": [
    "class Time:\n",
    "    def __init__(self, hours, minutes):\n",
    "        self.hours = hours\n",
    "        self.minutes = minutes\n",
    "    \n",
    "    def addTime(self, time):\n",
    "        self.hours += time.hours\n",
    "        self.minutes += time.minutes\n",
    "        if self.minutes >=60:\n",
    "            extra_hours = self.minutes // 60\n",
    "            self.hours += extra_hours\n",
    "            self.minutes %= 60\n",
    "        \n",
    "    def displayTime(self):\n",
    "        print(f\"{self.hours} hr and {self.minutes} m\")\n",
    "    def displayMinute(self):\n",
    "        total_minutes = (self.hours * 60) + self.minutes\n",
    "        print(f\"{total_minutes} minute\")\n",
    "    \n",
    "t1 = Time(1, 59)\n",
    "t2 = Time(23,59)\n",
    "t1.addTime(t2)\n",
    "t1.displayTime()\n",
    "t1.displayMinute()"
   ]
  },
  {
   "cell_type": "code",
   "execution_count": 39,
   "metadata": {},
   "outputs": [
    {
     "data": {
      "text/plain": [
       "re.ASCII"
      ]
     },
     "execution_count": 39,
     "metadata": {},
     "output_type": "execute_result"
    }
   ],
   "source": [
    "import re                                                                                                                                                                               \n",
    "re.ASCII"
   ]
  },
  {
   "cell_type": "markdown",
   "metadata": {},
   "source": [
    "Write a Python program that matches a string that has an 'a' followed by anything, ending in 'b'"
   ]
  },
  {
   "cell_type": "code",
   "execution_count": 42,
   "metadata": {},
   "outputs": [
    {
     "name": "stdout",
     "output_type": "stream",
     "text": [
      "abcdeb starts with 'a' and ends with 'b'\n",
      "afua doesn't start with 'a' AND end with 'b'\n"
     ]
    }
   ],
   "source": [
    "import re\n",
    "\n",
    "def match_string(string):\n",
    "    pattern = '^a.*b$'\n",
    "    if re.match(pattern, string):\n",
    "        print(f\"{string} starts with 'a' and ends with 'b'\")\n",
    "    else:\n",
    "        print(f\"{string} doesn't start with 'a' AND end with 'b'\")\n",
    "\n",
    "match_string('abcdeb')\n",
    "match_string('afua')"
   ]
  },
  {
   "cell_type": "code",
   "execution_count": 4,
   "metadata": {},
   "outputs": [
    {
     "data": {
      "text/plain": [
       "['123', '901', '2', '34']"
      ]
     },
     "execution_count": 4,
     "metadata": {},
     "output_type": "execute_result"
    }
   ],
   "source": [
    "import re\n",
    "\n",
    "def search_numbers(string):\n",
    "    pattern = '[0-9]+'\n",
    "    matches = re.findall(pattern, string)\n",
    "    matches = [n for n in matches if len(n) <= 3 ]\n",
    "    return matches\n",
    "\n",
    "search_numbers('The numbers in this string are  123, 45678, 901, 2, 34, 5678.')"
   ]
  },
  {
   "cell_type": "code",
   "execution_count": null,
   "metadata": {},
   "outputs": [],
   "source": []
  },
  {
   "cell_type": "code",
   "execution_count": null,
   "metadata": {},
   "outputs": [],
   "source": []
  },
  {
   "cell_type": "code",
   "execution_count": null,
   "metadata": {},
   "outputs": [],
   "source": []
  },
  {
   "cell_type": "code",
   "execution_count": null,
   "metadata": {},
   "outputs": [],
   "source": []
  },
  {
   "cell_type": "code",
   "execution_count": null,
   "metadata": {},
   "outputs": [],
   "source": []
  },
  {
   "cell_type": "code",
   "execution_count": null,
   "metadata": {},
   "outputs": [],
   "source": []
  },
  {
   "cell_type": "code",
   "execution_count": 8,
   "metadata": {},
   "outputs": [
    {
     "name": "stdout",
     "output_type": "stream",
     "text": [
      "Tute_Dude\n",
      "Tute Dude\n"
     ]
    }
   ],
   "source": [
    "def replace_chars(string):\n",
    "    temp_string = \"\"\n",
    "    for i in string:\n",
    "        if i == \" \":\n",
    "            temp_string += \"_\"\n",
    "        elif i == \"_\":\n",
    "            temp_string += \" \"\n",
    "        else:\n",
    "            temp_string += i\n",
    "    return temp_string\n",
    "\n",
    "\n",
    "print(replace_chars('Tute Dude'))  \n",
    "print(replace_chars('Tute_Dude')) \n"
   ]
  },
  {
   "cell_type": "code",
   "execution_count": null,
   "metadata": {},
   "outputs": [],
   "source": []
  }
 ],
 "metadata": {
  "kernelspec": {
   "display_name": "Python 3",
   "language": "python",
   "name": "python3"
  },
  "language_info": {
   "codemirror_mode": {
    "name": "ipython",
    "version": 3
   },
   "file_extension": ".py",
   "mimetype": "text/x-python",
   "name": "python",
   "nbconvert_exporter": "python",
   "pygments_lexer": "ipython3",
   "version": "3.11.4"
  },
  "orig_nbformat": 4
 },
 "nbformat": 4,
 "nbformat_minor": 2
}
